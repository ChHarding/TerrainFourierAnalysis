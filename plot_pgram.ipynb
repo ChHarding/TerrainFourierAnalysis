{
 "metadata": {
  "language_info": {
   "codemirror_mode": {
    "name": "ipython",
    "version": 3
   },
   "file_extension": ".py",
   "mimetype": "text/x-python",
   "name": "python",
   "nbconvert_exporter": "python",
   "pygments_lexer": "ipython3",
   "version": "3.8.5"
  },
  "orig_nbformat": 2,
  "kernelspec": {
   "name": "python385jvsc74a57bd02b206c8a4a0c24791db0e6049579072cea9a72ee00926351fcf541ddf7dc7a04",
   "display_name": "Python 3.8.5 64-bit (conda)"
  }
 },
 "nbformat": 4,
 "nbformat_minor": 2,
 "cells": [
  {
   "source": [
    "# Terrain Fourier Analysis\n",
    "\n",
    "version 1.0: Jun 3, 2021"
   ],
   "cell_type": "markdown",
   "metadata": {}
  },
  {
   "source": [
    "## Plot 1D periodograms (pgrams)\n",
    "- reads in a file with 1 or more profiles\n",
    "- detrends profiles (can show trend lines and/or residuals after detrending)\n",
    "- calculates a peridogram and significance line for each profiles (significance level can be set)\n",
    "- plots the averaged pgrams, avg. significance line, red-noise baseline and individual pgrams\n",
    "- Run the next cell, then go to __Load data__"
   ],
   "cell_type": "markdown",
   "metadata": {}
  },
  {
   "cell_type": "code",
   "execution_count": null,
   "metadata": {},
   "outputs": [],
   "source": [
    "import pandas as pd\n",
    "import numpy as np\n",
    "from TerrainFourierAnalysis_module import *"
   ]
  },
  {
   "source": [
    "### Load Data\n",
    "- Loads 1+ profiles from a text file with tab separated columns and no header line. \n",
    "- Each profile must have separate x (distance) and y (elevation) columns\n",
    "\n",
    "5 profile example (non_german floats, no header, tab seperators)\n",
    "```\n",
    "0               64.2998 0               63.8633\t0               63.864  0               63.711\t0               64.1124\n",
    "0.999687563\t64.336\t0.999687563\t63.904\t0.999687563\t63.8535\t0.999687563\t63.7444\t0.999687566\t64.2229\n",
    "1.999375129\t64.369\t1.999375129\t63.9143\t1.999375126\t63.8981\t1.999375129\t63.7835\t1.999375132\t64.2584\n",
    "2.999062695\t64.4413\t2.999062692\t63.9169\t2.999062692\t63.9228\t2.999062692\t63.8436\t2.999062695\t64.3006\n",
    "3.998750255\t64.4648\t3.998750255\t63.9522\t3.998750252\t63.9994\t3.998750255\t63.8869\t3.998750255\t64.3307\n",
    "4.998437819\t64.494\t4.998437819\t63.9989\t4.998437816\t64.0661\t4.998437822\t63.9529\t4.998437821\t64.4011\n",
    "```"
   ],
   "cell_type": "markdown",
   "metadata": {}
  },
  {
   "cell_type": "code",
   "execution_count": null,
   "metadata": {},
   "outputs": [],
   "source": [
    "filename = '2.txt'\n",
    "\n",
    "# make numpy array from file with profiles\n",
    "ar2D = array_from_file_german(filename, seperator=\"\\t\", has_header=True)\n",
    " \n",
    "# put x and y columns of each profile into lists \n",
    "x_lst, y_lst = get_profiles(ar2D)"
   ]
  },
  {
   "source": [
    "### Plot trends to establish trend order for later removal\n",
    "- You will need to decide on a trend order to be removed later. \n",
    "- You can experiement with several trend orders first (e.g. first, second and third order) and decide on a \"best\" trend, by looking a the variances\n",
    "- Put each trend you want to be plotted in the list below, order must be 1 or bigger.\n",
    "- E.g.: `trend_list = [1, 2, 3]` will plot first, second and third order trends through the averaged profile (x/y)\n",
    "- You will also see how much variance each trend captures of the profile, this should be around 80% or more\n",
    "- Note: high order trends (4,5,6, etc.) will always have higher percentages, however, they will lead to overfitting. Typically orders 2 or 3 are high enough!\n",
    "- Hover over the upper left corner of the plot to go into interactive mode, where you can zoom in and save the plot to file"
   ],
   "cell_type": "markdown",
   "metadata": {}
  },
  {
   "cell_type": "code",
   "execution_count": null,
   "metadata": {},
   "outputs": [],
   "source": [
    "# plot trends\n",
    "x, y = avg_amplitude(ar2D) # averages profiles into a single profile\n",
    "trend_list = [1, 2, 3, 4, 5, 6] \n",
    "plot_trends(x, y, trend_list, filename);"
   ]
  },
  {
   "source": [
    "### Trend Removal\n",
    "- Set the order (degree) of the trend removal\n",
    "- set `plot=True` if you want to plot the profiles with and without the trend removed\n",
    "- Hover over the upper left corner of the plot to go into interactive mode, where you can zoom in and save the plot to file"
   ],
   "cell_type": "markdown",
   "metadata": {}
  },
  {
   "cell_type": "code",
   "execution_count": null,
   "metadata": {},
   "outputs": [],
   "source": [
    "trend = 1 # remove this order of trend from all profiles\n",
    "\n",
    "# De-trend and store residuals for each profile. \n",
    "res_lst, var_last = remove_trend(x_lst, y_lst, filename, deg=trend, plot=True)\n"
   ]
  },
  {
   "source": [
    "### Periodogram settings\n",
    "- you need to set a probablity (%) of significance that will be plotted with the pgram (siglvl). Pgram values above that line have that much of a probablity to not be by chance  \n",
    "- Typical use is 0.95 (95% significance) or 0.99\n",
    "- In the plot you will see a red noise baseline, every pgram value above the is potentially significant but not at the level of the significance line\n",
    "- You also need to set a window size for smoothing. 1 means no smoothing, 3 means each sample is replaces (smoothed) be the average of itself and the values of its 2 neightbors (=> a window of size 3 is used)\n",
    "- Be aware that more smoothing tends to lift potentially significant peaks higher, thus making them more significant. I don't know if that's OK or not. I recommend not going beyond a size of 5\n"
   ],
   "cell_type": "markdown",
   "metadata": {}
  },
  {
   "cell_type": "code",
   "execution_count": null,
   "metadata": {},
   "outputs": [],
   "source": [
    "# Create data for periodogram, base lines and significance lines for each residual (of an individual profile)                   \n",
    "P_lst = []\n",
    "signif_lst = []\n",
    "theor_lst = []\n",
    "\n",
    "smoothwin=1  # moving window for smoothing, 1 means no smoothing (leave at 1 as I don't fully understand the impact of smoothing ...)\n",
    "siglvl = 0.95 # significance level\n",
    "\n",
    "# loop over pairs of x (sample distances) and y (residuals), each from a profile\n",
    "for x, y in zip(x_lst, res_lst):\n",
    "    P, f = fft1d_pgram(x, y, smoothwin) # returns Periodogram (y-axis) and frequency bins (x-axis)\n",
    "    P_lst.append(P) # collect P for this residual only as f will always be the same\n",
    "\n",
    "    fft_theor, fft_signif = fft1d_theor_signif(P,f, x,y, siglvl, smoothwin)\n",
    "    P_bt_signif = P[P > fft_signif] # number of elements in P that are larger that their corresponding significance\n",
    "    sig_frac = len(P_bt_signif)/len(P) # fraction of significant Ps\n",
    "    signif_lst.append(fft_signif)\n",
    "    theor_lst.append(fft_theor) # maybe these are all the same?\n",
    "\n"
   ]
  },
  {
   "cell_type": "code",
   "execution_count": null,
   "metadata": {},
   "outputs": [],
   "source": [
    "# From the results with the individual profiles (above), average the pgrams, baselines and the significance lines \n",
    "P_avg = sum(P_lst)/len(P_lst)\n",
    "theor_avg = sum(theor_lst) / len(theor_lst)  # red noise baseline\n",
    "signif_avg = sum(signif_lst) / len(signif_lst)"
   ]
  },
  {
   "cell_type": "code",
   "execution_count": null,
   "metadata": {},
   "outputs": [],
   "source": [
    "    # Plot pgrams\n",
    "\n",
    "    #import seaborn as sns\n",
    "    #sns.set_style(\"darkgrid\") #use a preset template\n",
    "    \n",
    "    fig = plt.figure(figsize=(12,6)) # paper is 12 inches wide and 6 inches high.\n",
    "    ax = plt.subplot(label=\"pgrams\") # handle for axis \n",
    "    plt.title(filename, pad=15, y=None) # None means auto y position\n",
    "    \n",
    "\n",
    "    # Plot avg. pgram and helper lines\n",
    "    wl = 1/f # wavelength\n",
    "    plt.plot(wl,P_avg, color=\"Black\", lw=1.5,  label='avg. Periodogram') # lw: line width\n",
    "    plt.plot(wl,theor_avg, color=\"red\", lw=0.5, ls=\":\",  label='red-noise baseline') # dotted\n",
    "    plt.plot(wl,signif_avg, color=\"red\", lw=0.5, ls=\"--\", label=f\"{siglvl*100}% significance\") # dashed\n",
    "    \n",
    "\n",
    "    # Plot individual pgrams with rotating (random?) colors\n",
    "    for i,P in enumerate(P_lst): \n",
    "        plt.plot(wl,P, lw=0.3, label=\"Profile \"+str(i))\n",
    "    ax.legend() # show a legend (default: upper left)\n",
    "\n",
    "    # make x ticks at top (wavelength) and bottom (frequ.) - could be in log10\n",
    "    # lists must be custom tailored for the length of the profile!\n",
    "    ticks_top = list(range(20, 101, 20)) + [125] + list(range(150, 500, 50)) + list(range(500, 1001, 100))\n",
    "    for t in ticks_top:\n",
    "        ax.axvline(t, color='grey', lw=0.2) # plot vertical line that connects top and bottom tick\n",
    "        trans = ax.get_xaxis_transform()\n",
    "        plt.text(t, 1.01, # make small gap between labels and the top line\n",
    "                    str(t),\n",
    "                    #color='grey', \n",
    "                    size=10,\n",
    "                    horizontalalignment='center',\n",
    "                    transform=trans)\n",
    "\n",
    "    # for bottom use same as ticks_top but w/o 125 b/c that freaks out the log 10 based labels\n",
    "    ticks_bot = list(range(20, 101, 20)) + list(range(150, 500, 50)) + list(range(500, 1001, 100)) \n",
    "    plt.xticks(fontsize=10)\n",
    "    ax.tick_params(which=\"minor\", length=4, width=2)\n",
    "    ax.tick_params( which=\"major\", length=6, width=2, pad=0.5)\n",
    "    ax.set_xticks(ticks_bot)\n",
    "\n",
    "    # text info (lower right corner)\n",
    "    textstr = f\"trendorder removed: {trend}\\n{len(x)} samples ({(len(f)+1)*2})\\nsmoothing window size: {smoothwin}\"\n",
    "    ax.text(0.99, 0.01, textstr, transform=ax.transAxes, \n",
    "                    fontsize=8,\n",
    "                    horizontalalignment='right',\n",
    "                    verticalalignment='bottom')\n",
    "\n",
    "    # configure axis\n",
    "    ax.set_xscale('log')\n",
    "    ax.set_yscale('log')\n",
    "\n",
    "    # limit view to what's relevant (depends heavily on your profiles!)\n",
    "    ax.set_xlim(20, 800) # along-profile distance\n",
    "    ax.set_ylim(1e-4, 1e2) # amplitude, in log10\n",
    "\n",
    "    # Label axis\n",
    "    ax.set_ylabel(\"Mean squared amplitude ($m^2$)\")\n",
    "    ax.set_xlabel(\"Frequency (1/m)\")\n",
    "\n",
    "    #plt.show() # show() is not needed with jupyter\n",
    "\n",
    "    # save to pdf and show in viewer\n",
    "    plt.savefig(\"pgram_\" + filename + \".pdf\")"
   ]
  },
  {
   "cell_type": "code",
   "execution_count": null,
   "metadata": {},
   "outputs": [],
   "source": []
  },
  {
   "cell_type": "code",
   "execution_count": null,
   "metadata": {},
   "outputs": [],
   "source": []
  },
  {
   "cell_type": "code",
   "execution_count": null,
   "metadata": {},
   "outputs": [],
   "source": []
  }
 ]
}